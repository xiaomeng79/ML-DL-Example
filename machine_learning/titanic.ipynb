{
 "cells": [
  {
   "cell_type": "code",
   "execution_count": 97,
   "outputs": [],
   "source": [
    "# 使用的库\n",
    "import numpy as np\n",
    "import pandas as pd\n",
    "from sklearn.impute import SimpleImputer\n",
    "from sklearn.preprocessing import StandardScaler"
   ],
   "metadata": {
    "collapsed": false,
    "pycharm": {
     "name": "#%%\n",
     "is_executing": false
    }
   }
  },
  {
   "cell_type": "code",
   "execution_count": 98,
   "outputs": [],
   "source": [
    "# 导入训练和测试数据\n",
    "train_data = pd.read_csv('../data/titanic/train.csv',encoding='utf-8',iterator=False)\n",
    "test_data = pd.read_csv('../data/titanic/test.csv',encoding='utf-8',iterator=False)"
   ],
   "metadata": {
    "collapsed": false,
    "pycharm": {
     "name": "#%%\n",
     "is_executing": false
    }
   }
  },
  {
   "cell_type": "code",
   "execution_count": 99,
   "outputs": [
    {
     "name": "stdout",
     "text": [
      "<class 'pandas.core.frame.DataFrame'>\n",
      "RangeIndex: 891 entries, 0 to 890\n",
      "Data columns (total 12 columns):\n",
      " #   Column       Non-Null Count  Dtype  \n",
      "---  ------       --------------  -----  \n",
      " 0   PassengerId  891 non-null    int64  \n",
      " 1   Survived     891 non-null    int64  \n",
      " 2   Pclass       891 non-null    int64  \n",
      " 3   Name         891 non-null    object \n",
      " 4   Sex          891 non-null    object \n",
      " 5   Age          714 non-null    float64\n",
      " 6   SibSp        891 non-null    int64  \n",
      " 7   Parch        891 non-null    int64  \n",
      " 8   Ticket       891 non-null    object \n",
      " 9   Fare         891 non-null    float64\n",
      " 10  Cabin        204 non-null    object \n",
      " 11  Embarked     889 non-null    object \n",
      "dtypes: float64(2), int64(5), object(5)\n",
      "memory usage: 83.7+ KB\n"
     ],
     "output_type": "stream"
    }
   ],
   "source": [
    "# 查看数据概况\n",
    "train_data.info()"
   ],
   "metadata": {
    "collapsed": false,
    "pycharm": {
     "name": "#%%\n",
     "is_executing": false
    }
   }
  },
  {
   "cell_type": "code",
   "execution_count": 100,
   "outputs": [],
   "source": [
    "# 缺失值统计\n",
    "def get_missing_data_info(data):\n",
    "    \"\"\"\n",
    "    获取缺失值统计\n",
    "     Parameters\n",
    "    ----------\n",
    "    data : Series or DataFrame\n",
    "        要统计的数据\n",
    "\n",
    "    Returns\n",
    "    -------\n",
    "    Series or DataFrame\n",
    "        统计总数和占比\n",
    "    \"\"\"\n",
    "    total = data.isnull().sum().sort_values(ascending=False)\n",
    "    percent = (data.isnull().sum()/data.isnull().count()).sort_values(ascending=False)\n",
    "    return pd.concat([total, percent], axis=1, keys=['Total', 'Percent'])\n",
    "    "
   ],
   "metadata": {
    "collapsed": false,
    "pycharm": {
     "name": "#%%\n",
     "is_executing": false
    }
   }
  },
  {
   "cell_type": "code",
   "execution_count": 101,
   "outputs": [
    {
     "data": {
      "text/plain": "          Total   Percent\nCabin       687  0.771044\nAge         177  0.198653\nEmbarked      2  0.002245\nFare          0  0.000000\nTicket        0  0.000000\nParch         0  0.000000\nSibSp         0  0.000000\nSex           0  0.000000\nName          0  0.000000\nPclass        0  0.000000",
      "text/html": "<div>\n<style scoped>\n    .dataframe tbody tr th:only-of-type {\n        vertical-align: middle;\n    }\n\n    .dataframe tbody tr th {\n        vertical-align: top;\n    }\n\n    .dataframe thead th {\n        text-align: right;\n    }\n</style>\n<table border=\"1\" class=\"dataframe\">\n  <thead>\n    <tr style=\"text-align: right;\">\n      <th></th>\n      <th>Total</th>\n      <th>Percent</th>\n    </tr>\n  </thead>\n  <tbody>\n    <tr>\n      <th>Cabin</th>\n      <td>687</td>\n      <td>0.771044</td>\n    </tr>\n    <tr>\n      <th>Age</th>\n      <td>177</td>\n      <td>0.198653</td>\n    </tr>\n    <tr>\n      <th>Embarked</th>\n      <td>2</td>\n      <td>0.002245</td>\n    </tr>\n    <tr>\n      <th>Fare</th>\n      <td>0</td>\n      <td>0.000000</td>\n    </tr>\n    <tr>\n      <th>Ticket</th>\n      <td>0</td>\n      <td>0.000000</td>\n    </tr>\n    <tr>\n      <th>Parch</th>\n      <td>0</td>\n      <td>0.000000</td>\n    </tr>\n    <tr>\n      <th>SibSp</th>\n      <td>0</td>\n      <td>0.000000</td>\n    </tr>\n    <tr>\n      <th>Sex</th>\n      <td>0</td>\n      <td>0.000000</td>\n    </tr>\n    <tr>\n      <th>Name</th>\n      <td>0</td>\n      <td>0.000000</td>\n    </tr>\n    <tr>\n      <th>Pclass</th>\n      <td>0</td>\n      <td>0.000000</td>\n    </tr>\n  </tbody>\n</table>\n</div>"
     },
     "metadata": {},
     "output_type": "execute_result",
     "execution_count": 101
    }
   ],
   "source": [
    "missing_data = get_missing_data_info(train_data)\n",
    "missing_data.head(10)\n"
   ],
   "metadata": {
    "collapsed": false,
    "pycharm": {
     "name": "#%%\n",
     "is_executing": false
    }
   }
  },
  {
   "cell_type": "code",
   "execution_count": 102,
   "outputs": [],
   "source": [
    "# 分析缺失值\n",
    "# Cabin 的缺失值达到了70%以上,删除\n",
    "# Name 可以深度挖掘是否是富人,通过家族姓氏,这里我们先删除\n",
    "# Ticket 船票号码可以深度挖掘是否靠窗等,这里我们先删除\n",
    "# Age 的缺失值可以通过平均值的填充\n",
    "# Embarked 的缺失值可以通过最高频率值来填充\n",
    "\n",
    "# 删除Cabin\n",
    "delete_columns = ['Cabin','Name','Ticket']\n",
    "train_data.drop(delete_columns,axis=1,inplace=True)\n",
    "test_data.drop(delete_columns,axis=1,inplace=True)\n",
    "\n",
    "# 使用sklearn的impute来填充缺失值\n",
    "mean_columns = ['Age','Fare']\n",
    "impute_mean = SimpleImputer(missing_values=np.nan,strategy=\"mean\")\n",
    "train_data[mean_columns] = impute_mean.fit_transform(train_data[mean_columns])\n",
    "test_data[mean_columns] = impute_mean.transform(test_data[mean_columns])\n",
    "\n",
    "most_frequent_columns = ['Embarked']\n",
    "impute_most_frequent = SimpleImputer(missing_values=np.nan,strategy='most_frequent')\n",
    "train_data[most_frequent_columns] = impute_most_frequent.fit_transform(train_data[most_frequent_columns])\n",
    "test_data[most_frequent_columns] = impute_most_frequent.transform(test_data[most_frequent_columns])"
   ],
   "metadata": {
    "collapsed": false,
    "pycharm": {
     "name": "#%%\n",
     "is_executing": false
    }
   }
  },
  {
   "cell_type": "code",
   "execution_count": 103,
   "outputs": [],
   "source": [
    "# 数据归一化处理\n",
    "scaler_columns = ['Age','Fare']\n",
    "\n",
    "std_scaler = StandardScaler()\n",
    "train_data[scaler_columns] = std_scaler.fit_transform(train_data[scaler_columns])\n",
    "test_data[scaler_columns] = std_scaler.transform(test_data[scaler_columns])"
   ],
   "metadata": {
    "collapsed": false,
    "pycharm": {
     "name": "#%%\n",
     "is_executing": false
    }
   }
  },
  {
   "cell_type": "code",
   "execution_count": 104,
   "outputs": [],
   "source": [
    "# TODO: 异常值处理"
   ],
   "metadata": {
    "collapsed": false,
    "pycharm": {
     "name": "#%%\n",
     "is_executing": false
    }
   }
  },
  {
   "cell_type": "code",
   "execution_count": 105,
   "outputs": [],
   "source": [
    "# 分类数据编码\n",
    "ont_hot_columns = ['Pclass','Sex','Embarked']\n",
    "train_data = pd.get_dummies(train_data,columns=ont_hot_columns)\n",
    "test_data = pd.get_dummies(test_data,columns=ont_hot_columns)"
   ],
   "metadata": {
    "collapsed": false,
    "pycharm": {
     "name": "#%%\n",
     "is_executing": false
    }
   }
  },
  {
   "cell_type": "code",
   "execution_count": 107,
   "outputs": [
    {
     "data": {
      "text/plain": "   PassengerId  Survived       Age  SibSp  Parch      Fare  Pclass_2  \\\n0            1         0 -0.592481      1      0 -0.502445         0   \n1            2         1  0.638789      1      0  0.786845         0   \n2            3         1 -0.284663      0      0 -0.488854         0   \n3            4         1  0.407926      1      0  0.420730         0   \n4            5         0  0.407926      0      0 -0.486337         0   \n5            6         0  0.000000      0      0 -0.478116         0   \n6            7         0  1.870059      0      0  0.395814         0   \n7            8         0 -2.131568      3      1 -0.224083         0   \n8            9         1 -0.207709      0      2 -0.424256         0   \n9           10         1 -1.208115      1      0 -0.042956         1   \n\n   Pclass_3  Sex_male  Embarked_Q  Embarked_S  \n0         1         1           0           1  \n1         0         0           0           0  \n2         1         0           0           1  \n3         0         0           0           1  \n4         1         1           0           1  \n5         1         1           1           0  \n6         0         1           0           1  \n7         1         1           0           1  \n8         1         0           0           1  \n9         0         0           0           0  ",
      "text/html": "<div>\n<style scoped>\n    .dataframe tbody tr th:only-of-type {\n        vertical-align: middle;\n    }\n\n    .dataframe tbody tr th {\n        vertical-align: top;\n    }\n\n    .dataframe thead th {\n        text-align: right;\n    }\n</style>\n<table border=\"1\" class=\"dataframe\">\n  <thead>\n    <tr style=\"text-align: right;\">\n      <th></th>\n      <th>PassengerId</th>\n      <th>Survived</th>\n      <th>Age</th>\n      <th>SibSp</th>\n      <th>Parch</th>\n      <th>Fare</th>\n      <th>Pclass_2</th>\n      <th>Pclass_3</th>\n      <th>Sex_male</th>\n      <th>Embarked_Q</th>\n      <th>Embarked_S</th>\n    </tr>\n  </thead>\n  <tbody>\n    <tr>\n      <th>0</th>\n      <td>1</td>\n      <td>0</td>\n      <td>-0.592481</td>\n      <td>1</td>\n      <td>0</td>\n      <td>-0.502445</td>\n      <td>0</td>\n      <td>1</td>\n      <td>1</td>\n      <td>0</td>\n      <td>1</td>\n    </tr>\n    <tr>\n      <th>1</th>\n      <td>2</td>\n      <td>1</td>\n      <td>0.638789</td>\n      <td>1</td>\n      <td>0</td>\n      <td>0.786845</td>\n      <td>0</td>\n      <td>0</td>\n      <td>0</td>\n      <td>0</td>\n      <td>0</td>\n    </tr>\n    <tr>\n      <th>2</th>\n      <td>3</td>\n      <td>1</td>\n      <td>-0.284663</td>\n      <td>0</td>\n      <td>0</td>\n      <td>-0.488854</td>\n      <td>0</td>\n      <td>1</td>\n      <td>0</td>\n      <td>0</td>\n      <td>1</td>\n    </tr>\n    <tr>\n      <th>3</th>\n      <td>4</td>\n      <td>1</td>\n      <td>0.407926</td>\n      <td>1</td>\n      <td>0</td>\n      <td>0.420730</td>\n      <td>0</td>\n      <td>0</td>\n      <td>0</td>\n      <td>0</td>\n      <td>1</td>\n    </tr>\n    <tr>\n      <th>4</th>\n      <td>5</td>\n      <td>0</td>\n      <td>0.407926</td>\n      <td>0</td>\n      <td>0</td>\n      <td>-0.486337</td>\n      <td>0</td>\n      <td>1</td>\n      <td>1</td>\n      <td>0</td>\n      <td>1</td>\n    </tr>\n    <tr>\n      <th>5</th>\n      <td>6</td>\n      <td>0</td>\n      <td>0.000000</td>\n      <td>0</td>\n      <td>0</td>\n      <td>-0.478116</td>\n      <td>0</td>\n      <td>1</td>\n      <td>1</td>\n      <td>1</td>\n      <td>0</td>\n    </tr>\n    <tr>\n      <th>6</th>\n      <td>7</td>\n      <td>0</td>\n      <td>1.870059</td>\n      <td>0</td>\n      <td>0</td>\n      <td>0.395814</td>\n      <td>0</td>\n      <td>0</td>\n      <td>1</td>\n      <td>0</td>\n      <td>1</td>\n    </tr>\n    <tr>\n      <th>7</th>\n      <td>8</td>\n      <td>0</td>\n      <td>-2.131568</td>\n      <td>3</td>\n      <td>1</td>\n      <td>-0.224083</td>\n      <td>0</td>\n      <td>1</td>\n      <td>1</td>\n      <td>0</td>\n      <td>1</td>\n    </tr>\n    <tr>\n      <th>8</th>\n      <td>9</td>\n      <td>1</td>\n      <td>-0.207709</td>\n      <td>0</td>\n      <td>2</td>\n      <td>-0.424256</td>\n      <td>0</td>\n      <td>1</td>\n      <td>0</td>\n      <td>0</td>\n      <td>1</td>\n    </tr>\n    <tr>\n      <th>9</th>\n      <td>10</td>\n      <td>1</td>\n      <td>-1.208115</td>\n      <td>1</td>\n      <td>0</td>\n      <td>-0.042956</td>\n      <td>1</td>\n      <td>0</td>\n      <td>0</td>\n      <td>0</td>\n      <td>0</td>\n    </tr>\n  </tbody>\n</table>\n</div>"
     },
     "metadata": {},
     "output_type": "execute_result",
     "execution_count": 107
    }
   ],
   "source": [
    "# 删除没用的列\n",
    "\n",
    "train_data.head(10)\n"
   ],
   "metadata": {
    "collapsed": false,
    "pycharm": {
     "name": "#%%\n",
     "is_executing": false
    }
   }
  }
 ],
 "metadata": {
  "kernelspec": {
   "name": "pycharm-bd2c3b8b",
   "language": "python",
   "display_name": "PyCharm (ML-DL-Example)"
  },
  "language_info": {
   "codemirror_mode": {
    "name": "ipython",
    "version": 2
   },
   "file_extension": ".py",
   "mimetype": "text/x-python",
   "name": "python",
   "nbconvert_exporter": "python",
   "pygments_lexer": "ipython2",
   "version": "2.7.6"
  },
  "pycharm": {
   "stem_cell": {
    "cell_type": "raw",
    "source": [],
    "metadata": {
     "collapsed": false
    }
   }
  }
 },
 "nbformat": 4,
 "nbformat_minor": 0
}